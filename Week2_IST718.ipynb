{
  "nbformat": 4,
  "nbformat_minor": 0,
  "metadata": {
    "colab": {
      "name": "Week2_IST718.ipynb",
      "provenance": [],
      "mount_file_id": "1qQ9z70gAhLuo_p483XZrAWUQPqPG_n7y",
      "authorship_tag": "ABX9TyMDquCtywEU87SoBWtXcEhH",
      "include_colab_link": true
    },
    "kernelspec": {
      "name": "python3",
      "display_name": "Python 3"
    },
    "language_info": {
      "name": "python"
    }
  },
  "cells": [
    {
      "cell_type": "markdown",
      "metadata": {
        "id": "view-in-github",
        "colab_type": "text"
      },
      "source": [
        "<a href=\"https://colab.research.google.com/github/rcruzalegui/IST_718/blob/master/Week2_IST718.ipynb\" target=\"_parent\"><img src=\"https://colab.research.google.com/assets/colab-badge.svg\" alt=\"Open In Colab\"/></a>"
      ]
    },
    {
      "cell_type": "code",
      "metadata": {
        "id": "_zs3XzZXTg8V"
      },
      "source": [
        "import pandas as pd  # data frame operations\n",
        "import numpy as np  # arrays and math functions\n",
        "import matplotlib.pyplot as plt  # 2D plotting\n",
        "import seaborn as sns  # PROVIDES TRELLIS AND SMALL MULTIPLE PLOTTING"
      ],
      "execution_count": 9,
      "outputs": []
    },
    {
      "cell_type": "code",
      "metadata": {
        "colab": {
          "base_uri": "https://localhost:8080/"
        },
        "id": "heH4PDeCU8Y_",
        "outputId": "373e53c6-212c-4d89-e933-0e9bba59442b"
      },
      "source": [
        "!ls \"/content/drive/My Drive\""
      ],
      "execution_count": 10,
      "outputs": [
        {
          "output_type": "stream",
          "text": [
            " 10301821DayMealPlan.pdf\n",
            " Aravind.pdf\n",
            " Coaches9.csv\n",
            "'Colab Notebooks'\n",
            "'Copy of Data Journal: Journal Entry Templates.gdoc'\n",
            "'Copy of ORJ - FIRE Workbook (Google Sheet Version) - A step-by-step guide to RETIRING EARLY.gsheet'\n",
            "'InfoGram Demo'\n",
            " MARKETINGMYOPIA.pdf\n",
            "'Untitled Diagram.drawio'\n",
            "'Untitled drawing.gdraw'\n",
            "'Untitled spreadsheet.gsheet'\n",
            " VQ_SHARE\n",
            " Week2_IST718.ipynb\n"
          ],
          "name": "stdout"
        }
      ]
    },
    {
      "cell_type": "code",
      "metadata": {
        "id": "KepnAA2UVN9X"
      },
      "source": [
        "dodgers = pd.read_csv(\"/content/drive/My Drive/Colab Notebooks/Data/dodgers.csv\")"
      ],
      "execution_count": 8,
      "outputs": []
    },
    {
      "cell_type": "code",
      "metadata": {
        "colab": {
          "base_uri": "https://localhost:8080/"
        },
        "id": "OvVz3ZNRV4zV",
        "outputId": "0e772940-3640-4c53-e03a-38ed0aeafd92"
      },
      "source": [
        "dodgers.shape"
      ],
      "execution_count": 11,
      "outputs": [
        {
          "output_type": "execute_result",
          "data": {
            "text/plain": [
              "(81, 12)"
            ]
          },
          "metadata": {
            "tags": []
          },
          "execution_count": 11
        }
      ]
    },
    {
      "cell_type": "code",
      "metadata": {
        "colab": {
          "base_uri": "https://localhost:8080/"
        },
        "id": "vkaXnWwSWxwU",
        "outputId": "852e71a1-d53a-49c5-d598-029223bc0cfa"
      },
      "source": [
        "dodgers.head"
      ],
      "execution_count": 12,
      "outputs": [
        {
          "output_type": "execute_result",
          "data": {
            "text/plain": [
              "<bound method NDFrame.head of    month  day  attend day_of_week  ... cap  shirt fireworks bobblehead\n",
              "0    APR   10   56000     Tuesday  ...  NO     NO        NO         NO\n",
              "1    APR   11   29729   Wednesday  ...  NO     NO        NO         NO\n",
              "2    APR   12   28328    Thursday  ...  NO     NO        NO         NO\n",
              "3    APR   13   31601      Friday  ...  NO     NO       YES         NO\n",
              "4    APR   14   46549    Saturday  ...  NO     NO        NO         NO\n",
              "..   ...  ...     ...         ...  ...  ..    ...       ...        ...\n",
              "76   SEP   29   40724    Saturday  ...  NO     NO        NO         NO\n",
              "77   SEP   30   35607      Sunday  ...  NO     NO        NO         NO\n",
              "78   OCT    1   33624      Monday  ...  NO     NO        NO         NO\n",
              "79   OCT    2   42473     Tuesday  ...  NO     NO        NO         NO\n",
              "80   OCT    3   34014   Wednesday  ...  NO     NO        NO         NO\n",
              "\n",
              "[81 rows x 12 columns]>"
            ]
          },
          "metadata": {
            "tags": []
          },
          "execution_count": 12
        }
      ]
    },
    {
      "cell_type": "code",
      "metadata": {
        "colab": {
          "base_uri": "https://localhost:8080/"
        },
        "id": "Zv-t4P35W-hO",
        "outputId": "101e991d-d1b7-4271-db75-c72317a27fe6"
      },
      "source": [
        "dodgers.columns\n",
        "dodgers[[\"attend\"]].describe()\n",
        "print(dodgers.describe())"
      ],
      "execution_count": 19,
      "outputs": [
        {
          "output_type": "stream",
          "text": [
            "             day        attend       temp\n",
            "count  81.000000     81.000000  81.000000\n",
            "mean   16.135802  41040.074074  73.148148\n",
            "std     9.605666   8297.539460   8.317318\n",
            "min     1.000000  24312.000000  54.000000\n",
            "25%     8.000000  34493.000000  67.000000\n",
            "50%    15.000000  40284.000000  73.000000\n",
            "75%    25.000000  46588.000000  79.000000\n",
            "max    31.000000  56000.000000  95.000000\n"
          ],
          "name": "stdout"
        }
      ]
    }
  ]
}